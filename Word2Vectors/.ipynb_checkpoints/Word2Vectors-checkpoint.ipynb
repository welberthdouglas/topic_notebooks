{
 "cells": [
  {
   "cell_type": "markdown",
   "metadata": {},
   "source": [
    "# Word Embeddings\n",
    "\n",
    " Transforming words into global dense vectors that capture the meaning of the word taking into account context (e.g. the surrounding words).Consider the corpus (the plural of corpus is corpora btw :P) shown in the following image. The goal is for each central word $w_{t}$ try and predict which words are more likely to apear in the vicinity of the central word within a window $m$.\n",
    "<br>The quantity $P(w_{t+j}|w+{t})$ with $j \\neq 0$ and $-m \\leq j \\leq m$ is the probability of the $w_{t+j}$ word apearing in the context windown $m$ in the surroundings of the central word $w_{t}$."
   ]
  },
  {
   "cell_type": "markdown",
   "metadata": {},
   "source": [
    "<div>\n",
    "<img src=\"images/word2vec_overview.png\" width=\"700\"/>\n",
    "</div>"
   ]
  },
  {
   "cell_type": "markdown",
   "metadata": {},
   "source": [
    "For each position t = 1,2,...,T predict context words within a window of fixed size m, given a center word $w_{j}$.\n",
    "<br>\n",
    "Likelihood:\n",
    "$$\n",
    "{\\displaystyle\n",
    "L(\\theta)=\\prod_{t=1}^{T}\\prod_{\\substack{-m\\leq j \\leq m \\\\ j \\neq 0}} P(w_{t+j}|w_{t}, \\theta)}\n",
    "$$"
   ]
  }
 ],
 "metadata": {
  "kernelspec": {
   "display_name": "Python 3",
   "language": "python",
   "name": "python3"
  },
  "language_info": {
   "codemirror_mode": {
    "name": "ipython",
    "version": 3
   },
   "file_extension": ".py",
   "mimetype": "text/x-python",
   "name": "python",
   "nbconvert_exporter": "python",
   "pygments_lexer": "ipython3",
   "version": "3.6.9"
  },
  "toc": {
   "base_numbering": 1,
   "nav_menu": {},
   "number_sections": true,
   "sideBar": true,
   "skip_h1_title": false,
   "title_cell": "Table of Contents",
   "title_sidebar": "Contents",
   "toc_cell": false,
   "toc_position": {},
   "toc_section_display": true,
   "toc_window_display": false
  }
 },
 "nbformat": 4,
 "nbformat_minor": 2
}
