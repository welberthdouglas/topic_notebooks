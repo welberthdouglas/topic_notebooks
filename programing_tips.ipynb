{
 "cells": [
  {
   "cell_type": "markdown",
   "metadata": {
    "ExecuteTime": {
     "end_time": "2020-08-08T01:45:54.936285Z",
     "start_time": "2020-08-08T01:45:54.931838Z"
    }
   },
   "source": [
    "# Imports"
   ]
  },
  {
   "cell_type": "code",
   "execution_count": 45,
   "metadata": {
    "ExecuteTime": {
     "end_time": "2020-08-08T01:46:02.186297Z",
     "start_time": "2020-08-08T01:46:02.175120Z"
    }
   },
   "outputs": [],
   "source": [
    "import random"
   ]
  },
  {
   "cell_type": "markdown",
   "metadata": {
    "ExecuteTime": {
     "end_time": "2020-08-08T01:42:18.474151Z",
     "start_time": "2020-08-08T01:42:18.471314Z"
    }
   },
   "source": [
    "## Branchless programming\n",
    "\n",
    "Example of branchless programming. In this case though the results are pretty much the same timewise. That is probably because modern compilers and interpreters can detect a branch, figure it out what we want to do and convert the code to branchless assembly instructions."
   ]
  },
  {
   "cell_type": "code",
   "execution_count": 2,
   "metadata": {
    "ExecuteTime": {
     "end_time": "2020-08-08T01:44:02.843028Z",
     "start_time": "2020-08-08T01:44:02.828421Z"
    }
   },
   "outputs": [],
   "source": [
    "def smaller_branchless(a:int,b:int)->int:\n",
    "    return a*(a<b)+b*(b<=a)\n",
    "\n",
    "def smaller(a:int,b:int)->int:\n",
    "    if a<b:\n",
    "        return a\n",
    "    else:\n",
    "        return b"
   ]
  },
  {
   "cell_type": "code",
   "execution_count": 107,
   "metadata": {
    "ExecuteTime": {
     "end_time": "2020-08-08T02:04:25.796172Z",
     "start_time": "2020-08-08T02:04:23.606248Z"
    }
   },
   "outputs": [],
   "source": [
    "i=0\n",
    "while i<1_000_000:\n",
    "    smaller_branchless(random.randint(0,10),random.randint(0,10))\n",
    "    i+=1"
   ]
  },
  {
   "cell_type": "code",
   "execution_count": 108,
   "metadata": {
    "ExecuteTime": {
     "end_time": "2020-08-08T02:04:27.901416Z",
     "start_time": "2020-08-08T02:04:25.797896Z"
    }
   },
   "outputs": [],
   "source": [
    "i=0\n",
    "while i<1_000_000:\n",
    "    smaller(random.randint(0,10),random.randint(0,10))\n",
    "    i+=1"
   ]
  }
 ],
 "metadata": {
  "kernelspec": {
   "display_name": "Python 3",
   "language": "python",
   "name": "python3"
  },
  "language_info": {
   "codemirror_mode": {
    "name": "ipython",
    "version": 3
   },
   "file_extension": ".py",
   "mimetype": "text/x-python",
   "name": "python",
   "nbconvert_exporter": "python",
   "pygments_lexer": "ipython3",
   "version": "3.6.9"
  },
  "toc": {
   "base_numbering": 1,
   "nav_menu": {},
   "number_sections": true,
   "sideBar": true,
   "skip_h1_title": false,
   "title_cell": "Table of Contents",
   "title_sidebar": "Contents",
   "toc_cell": false,
   "toc_position": {},
   "toc_section_display": true,
   "toc_window_display": false
  }
 },
 "nbformat": 4,
 "nbformat_minor": 2
}
