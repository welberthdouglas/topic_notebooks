{
 "cells": [
  {
   "cell_type": "markdown",
   "metadata": {},
   "source": [
    "# Softmax\n",
    "\n",
    "The Softmax function is defined as :\n",
    "    \n",
    "$$\n",
    "{\\displaystyle\n",
    "(\\sigma_{z})_{i} = \\frac{e^{z_{i}}}{\\sum_{j=1}^{k} e^{z_{j}}}\n",
    "}\n",
    "$$\n",
    "\n",
    "For each value $z_{i}$ we apply the exponential function and normalize by the sum of exponentials of all values. With this, the softmax function ensures that all values lie between 0 and 1, and that the sum of all $(\\sigma_{z})_{i}$ sum up to 1, which makes this function suitable to describe probabilities."
   ]
  },
  {
   "cell_type": "markdown",
   "metadata": {},
   "source": [
    "$$\n",
    "{\\displaystyle\n",
    "(\\sigma_{z})_{1} = \\frac{e^{z_{1}}}{e^{z_{0}}+e^{z_{1}}}\n",
    "}\n",
    "$$"
   ]
  },
  {
   "cell_type": "markdown",
   "metadata": {
    "ExecuteTime": {
     "end_time": "2020-08-05T02:13:27.525110Z",
     "start_time": "2020-08-05T02:13:27.517809Z"
    }
   },
   "source": [
    "# Sigmoid\n",
    "\n",
    "Considering the particular case where we have only two states, lets call them (0 and 1), in that case:\n",
    "\n",
    "$$\n",
    "{\\displaystyle\n",
    "(\\sigma_{z})_{0} = \\frac{e^{z_{0}}}{e^{z_{0}}+e^{z_{1}}}\n",
    "}\n",
    "$$\n",
    "<br> and,\n",
    "$$\n",
    "{\\displaystyle\n",
    "(\\sigma_{z})_{1} = \\frac{e^{z_{1}}}{e^{z_{0}}+e^{z_{1}}}\n",
    "}\n",
    "$$\n",
    "\n",
    "in that case:\n",
    "\n",
    "$$\n",
    "{\\displaystyle\n",
    "(\\sigma_{z})_{1} = \\frac{\\frac{e^{z_{1}}}{e^{z_{1}}}}{\\frac{e^{z_{0}}}{e^{z_{1}}}+ \\frac{e^{z_{1}}}{e^{z_{1}}}} = \n",
    "}\n",
    "$$"
   ]
  }
 ],
 "metadata": {
  "kernelspec": {
   "display_name": "Python 3",
   "language": "python",
   "name": "python3"
  },
  "language_info": {
   "codemirror_mode": {
    "name": "ipython",
    "version": 3
   },
   "file_extension": ".py",
   "mimetype": "text/x-python",
   "name": "python",
   "nbconvert_exporter": "python",
   "pygments_lexer": "ipython3",
   "version": "3.6.9"
  },
  "toc": {
   "base_numbering": 1,
   "nav_menu": {},
   "number_sections": true,
   "sideBar": true,
   "skip_h1_title": false,
   "title_cell": "Table of Contents",
   "title_sidebar": "Contents",
   "toc_cell": false,
   "toc_position": {},
   "toc_section_display": true,
   "toc_window_display": false
  }
 },
 "nbformat": 4,
 "nbformat_minor": 2
}
