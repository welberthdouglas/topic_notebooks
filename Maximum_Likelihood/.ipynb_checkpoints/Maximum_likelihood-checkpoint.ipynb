{
 "cells": [
  {
   "cell_type": "markdown",
   "metadata": {},
   "source": [
    "# Maximum Likelihood\n",
    "\n",
    "Method commonly used in order to estimate the best parameters for a model (e.g. estimate $\\beta_{i}$ coefficients in a logistic regression). This is achieved by choosing the parameters that maximize the likelihood of observing the data given the probability model.\n",
    "<br> \n",
    "<br> Consider the following image. Supose that we want to estimate the parameters $\\mu$ and $\\sigma$ in order to fit a normal curve that best describes the shown data."
   ]
  },
  {
   "cell_type": "markdown",
   "metadata": {
    "ExecuteTime": {
     "end_time": "2020-07-28T23:48:18.844484Z",
     "start_time": "2020-07-28T23:48:18.838809Z"
    }
   },
   "source": [
    "<div>\n",
    "<img src=\"images/max_likelihood.png\" width=\"700\"/>\n",
    "</div>"
   ]
  },
  {
   "cell_type": "markdown",
   "metadata": {},
   "source": [
    "The likelihood is computed for each data point $d_{i}$ as how likely is to have the model parameters $\\beta_{j}$ given the observed data $d_{i}$. It follows that: <br>\n",
    "\n",
    "$$\n",
    "{\\displaystyle\n",
    "Likelihood(\\beta_{j})= L(\\beta_{j}|d_{i})\n",
    "}\n",
    "$$\n",
    "\n",
    "Assuming independence between the datapoints, the likelihood of having the parameters $j$ given that we observe $n$ datapoints can be writen as:\n",
    "\n",
    "* Recall the probability of A AND B ocurring at the same time is :  \n",
    "\n",
    "$$\n",
    "{\\displaystyle\n",
    "p(A\\cap B) = p(A)p(B|A)\n",
    "}\n",
    "$$\n",
    "\n",
    "\n",
    "* If A AND B are independent, then $p(B|A) = p(B)$ and:\n",
    "\n",
    "$$\n",
    "{\\displaystyle\n",
    "p(A\\cap B) = p(A)p(B)\n",
    "}\n",
    "$$\n",
    "\n",
    "And therefore the likelihood of having the chosen parameters given all the observed data can be writen as:\n",
    "\n",
    "$$\n",
    "{\\displaystyle\n",
    "L(\\beta_{j}|d_{1} \\cap d_{2} \\cap d_{3} ... \\cap d_{n})\n",
    "}\n",
    "$$\n",
    "\n",
    "$$\n",
    "{\\displaystyle\n",
    "\\prod_{i=1}^{n}L(\\beta_{j}|d_{i})\n",
    "}\n",
    "$$\n",
    "\n",
    "\n",
    "Specifically in the example of fitting a normal curve to the data, we have:\n",
    "\n",
    "$$\n",
    "{\\displaystyle\n",
    "Likelihood = \\prod_{i=1}^{n}L(\\sigma,\\mu|d_{i})\n",
    "}\n",
    "$$"
   ]
  },
  {
   "cell_type": "markdown",
   "metadata": {
    "ExecuteTime": {
     "end_time": "2020-08-05T01:11:14.533430Z",
     "start_time": "2020-08-05T01:11:14.525213Z"
    }
   },
   "source": [
    "# Examples\n",
    "\n"
   ]
  }
 ],
 "metadata": {
  "kernelspec": {
   "display_name": "Python 3",
   "language": "python",
   "name": "python3"
  },
  "language_info": {
   "codemirror_mode": {
    "name": "ipython",
    "version": 3
   },
   "file_extension": ".py",
   "mimetype": "text/x-python",
   "name": "python",
   "nbconvert_exporter": "python",
   "pygments_lexer": "ipython3",
   "version": "3.6.9"
  },
  "toc": {
   "base_numbering": 1,
   "nav_menu": {},
   "number_sections": true,
   "sideBar": true,
   "skip_h1_title": false,
   "title_cell": "Table of Contents",
   "title_sidebar": "Contents",
   "toc_cell": false,
   "toc_position": {},
   "toc_section_display": true,
   "toc_window_display": false
  }
 },
 "nbformat": 4,
 "nbformat_minor": 2
}
