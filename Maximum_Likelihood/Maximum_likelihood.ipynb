{
 "cells": [
  {
   "cell_type": "markdown",
   "metadata": {},
   "source": [
    "# Maximum Likelihood\n",
    "\n",
    "Method commonly used in order to estimate the best parameters for a model (e.g. estimate $\\beta_{i}$ coefficients in a logistic regression). This is achieved by choosing the parameters that maximize the likelihood of observing the data given the probability model.\n",
    "<br> \n",
    "<br> Consider the following image. Supose that we want to estimate the parameters $\\mu$ and $\\sigma$ in order to fit a normal curve that best describes the shown data."
   ]
  },
  {
   "cell_type": "markdown",
   "metadata": {
    "ExecuteTime": {
     "end_time": "2020-07-28T23:48:18.844484Z",
     "start_time": "2020-07-28T23:48:18.838809Z"
    }
   },
   "source": [
    "<div>\n",
    "<img src=\"images/max_likelihood.png\" width=\"700\"/>\n",
    "</div>"
   ]
  },
  {
   "cell_type": "markdown",
   "metadata": {},
   "source": [
    "The likelihood is computed for each data point $d_{i}$ as how likely is to observe $d_{i}$ given the model parameters $\\beta_{j}$. It follows that: <br>\n",
    "\n",
    "$$\n",
    "{\\displaystyle\n",
    "Likelihood(\\beta_{j})= L(d_{i}|\\beta_{j})\n",
    "}\n",
    "$$\n",
    "\n",
    "Assuming independence between the datapoints, the likelihood of observing all the $n$ data given the $j$ parameters can be writen as:\n",
    "\n",
    "$$\n",
    "{\\displaystyle\n",
    "\\prod_{i=1}^{n}L(d_{i}|\\beta_{j})\n",
    "}\n",
    "$$\n",
    "\n",
    "* Recall that $p(A|B)$\n",
    "\n",
    "\n",
    "Specifically in the example of fitting a normal curve to the data, we have:\n",
    "\n",
    "$$\n",
    "{\\displaystyle\n",
    "Likelihood = \\prod_{i=1}^{n}L(d_{i}|\\sigma,\\mu)\n",
    "}\n",
    "$$"
   ]
  }
 ],
 "metadata": {
  "kernelspec": {
   "display_name": "Python 3",
   "language": "python",
   "name": "python3"
  },
  "language_info": {
   "codemirror_mode": {
    "name": "ipython",
    "version": 3
   },
   "file_extension": ".py",
   "mimetype": "text/x-python",
   "name": "python",
   "nbconvert_exporter": "python",
   "pygments_lexer": "ipython3",
   "version": "3.6.9"
  },
  "toc": {
   "base_numbering": 1,
   "nav_menu": {},
   "number_sections": true,
   "sideBar": true,
   "skip_h1_title": false,
   "title_cell": "Table of Contents",
   "title_sidebar": "Contents",
   "toc_cell": false,
   "toc_position": {},
   "toc_section_display": true,
   "toc_window_display": false
  }
 },
 "nbformat": 4,
 "nbformat_minor": 2
}
